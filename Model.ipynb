{
 "cells": [
  {
   "cell_type": "code",
   "execution_count": 57,
   "id": "3cc7c38e",
   "metadata": {},
   "outputs": [],
   "source": [
    "import pandas as pd\n",
    "import numpy as np\n",
    "from sklearn.ensemble import RandomForestClassifier\n",
    "from sklearn.multioutput import MultiOutputClassifier\n",
    "from sklearn.model_selection import train_test_split\n",
    "from sklearn.metrics import precision_score"
   ]
  },
  {
   "cell_type": "code",
   "execution_count": 58,
   "id": "104e8b54",
   "metadata": {},
   "outputs": [],
   "source": [
    "df = pd.read_csv('bullying_clean2.csv')"
   ]
  },
  {
   "cell_type": "code",
   "execution_count": 59,
   "id": "bb952a99",
   "metadata": {},
   "outputs": [],
   "source": [
    "df['bullied'] = (df['bullied_in_school'] | df['bullied_outside_school'] | df['cyberbullied'])"
   ]
  },
  {
   "cell_type": "code",
   "execution_count": 60,
   "id": "f1e6eeee",
   "metadata": {},
   "outputs": [],
   "source": [
    "df.drop(['bullied_in_school', 'bullied_outside_school', 'cyberbullied'], axis=1, inplace=True)"
   ]
  },
  {
   "cell_type": "code",
   "execution_count": 61,
   "id": "f03305fe",
   "metadata": {},
   "outputs": [],
   "source": [
    "X = df.drop(['bullied'], axis=1)\n",
    "y = df[['bullied']]\n"
   ]
  },
  {
   "cell_type": "code",
   "execution_count": 62,
   "id": "9efcb3e1",
   "metadata": {},
   "outputs": [],
   "source": [
    "tt_ratio = 0.3\n",
    "rand_seed = 40\n",
    "\n",
    "X_train, X_test, y_train, y_test = train_test_split(X, y, test_size=tt_ratio, random_state=rand_seed)\n",
    "#X_train = pd.DataFrame(X_train)\n",
    "#X_test = pd.DataFrame(X_test)"
   ]
  },
  {
   "cell_type": "code",
   "execution_count": 77,
   "id": "058efb1b",
   "metadata": {},
   "outputs": [
    {
     "data": {
      "text/plain": [
       "0.6254172015404365"
      ]
     },
     "execution_count": 77,
     "metadata": {},
     "output_type": "execute_result"
    }
   ],
   "source": [
    "model = RandomForestClassifier(n_estimators=2000, min_samples_split=25, random_state=40)\n",
    "model.fit(X_train, y_train.to_numpy().ravel())\n",
    "\n",
    "y_pred = model.predict(X_test)\n",
    "precision_score(y_test, y_pred)\n"
   ]
  },
  {
   "cell_type": "code",
   "execution_count": null,
   "id": "3b0650e4",
   "metadata": {},
   "outputs": [],
   "source": []
  }
 ],
 "metadata": {
  "kernelspec": {
   "display_name": "Python 3 (ipykernel)",
   "language": "python",
   "name": "python3"
  },
  "language_info": {
   "codemirror_mode": {
    "name": "ipython",
    "version": 3
   },
   "file_extension": ".py",
   "mimetype": "text/x-python",
   "name": "python",
   "nbconvert_exporter": "python",
   "pygments_lexer": "ipython3",
   "version": "3.9.13"
  }
 },
 "nbformat": 4,
 "nbformat_minor": 5
}
