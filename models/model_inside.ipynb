{
 "cells": [
  {
   "cell_type": "code",
   "execution_count": 1,
   "id": "a56e0a03",
   "metadata": {},
   "outputs": [],
   "source": [
    "import pandas as pd\n",
    "import numpy as np\n",
    "from sklearn.ensemble import RandomForestClassifier\n",
    "from sklearn.multioutput import MultiOutputClassifier\n",
    "from sklearn.model_selection import train_test_split\n",
    "from sklearn.metrics import precision_score\n",
    "from imblearn.over_sampling import SMOTE\n",
    "import joblib"
   ]
  },
  {
   "cell_type": "code",
   "execution_count": 2,
   "id": "a0355499",
   "metadata": {},
   "outputs": [],
   "source": [
    "df = pd.read_csv('../data/cleaning_step2.csv')"
   ]
  },
  {
   "cell_type": "code",
   "execution_count": 3,
   "id": "82ce169d",
   "metadata": {},
   "outputs": [],
   "source": [
    "df.drop(['bullied_outside_school', 'cyberbullied'], axis=1, inplace=True)"
   ]
  },
  {
   "cell_type": "markdown",
   "id": "f177adfa",
   "metadata": {},
   "source": [
    "* _downsampling_"
   ]
  },
  {
   "cell_type": "code",
   "execution_count": 4,
   "id": "481ec119",
   "metadata": {},
   "outputs": [
    {
     "data": {
      "text/plain": [
       "(16502, 6264)"
      ]
     },
     "execution_count": 4,
     "metadata": {},
     "output_type": "execute_result"
    }
   ],
   "source": [
    "cat0 = df[df['bullied_in_school'] == 0]\n",
    "cat1 = df[df['bullied_in_school'] == 1]\n",
    "\n",
    "c0_len = len(cat0)\n",
    "c1_len = len(cat1)\n",
    "\n",
    "c0_len, c1_len"
   ]
  },
  {
   "cell_type": "code",
   "execution_count": 5,
   "id": "5b3eb8fe",
   "metadata": {},
   "outputs": [],
   "source": [
    "#downsample\n",
    "cat0_down = cat0.sample(c1_len)"
   ]
  },
  {
   "cell_type": "code",
   "execution_count": 6,
   "id": "61b72214",
   "metadata": {},
   "outputs": [],
   "source": [
    "# reassemble\n",
    "df = pd.concat([cat0_down, cat1], axis=0)\n",
    "\n",
    "# shuffle\n",
    "df = df.sample(frac=1) #frac = ratio of the shuffled output to the input size\n",
    "df = df.reset_index(drop=True)"
   ]
  },
  {
   "cell_type": "code",
   "execution_count": 7,
   "id": "c8aa1e1e",
   "metadata": {},
   "outputs": [],
   "source": [
    "X = df.drop(['bullied_in_school'], axis=1)\n",
    "y = df[['bullied_in_school']]"
   ]
  },
  {
   "cell_type": "code",
   "execution_count": 8,
   "id": "006efe6b",
   "metadata": {},
   "outputs": [],
   "source": [
    "tt_ratio = 0.3\n",
    "rand_seed = 42\n",
    "\n",
    "X_train, X_test, y_train, y_test = train_test_split(X, y, test_size=tt_ratio, random_state=rand_seed)\n",
    "#X_train = pd.DataFrame(X_train)\n",
    "#X_test = pd.DataFrame(X_test)"
   ]
  },
  {
   "cell_type": "code",
   "execution_count": 9,
   "id": "29a2df52",
   "metadata": {},
   "outputs": [
    {
     "data": {
      "text/plain": [
       "0.6022988505747127"
      ]
     },
     "execution_count": 9,
     "metadata": {},
     "output_type": "execute_result"
    }
   ],
   "source": [
    "model = RandomForestClassifier(n_estimators=2000, min_samples_split=25, random_state=42)\n",
    "model.fit(X_train, y_train.to_numpy().ravel())\n",
    "\n",
    "y_pred = model.predict(X_test)\n",
    "precision_score(y_test, y_pred)"
   ]
  },
  {
   "cell_type": "code",
   "execution_count": 10,
   "id": "6d494163",
   "metadata": {},
   "outputs": [
    {
     "data": {
      "text/plain": [
       "['model_inside.joblib']"
      ]
     },
     "execution_count": 10,
     "metadata": {},
     "output_type": "execute_result"
    }
   ],
   "source": [
    "#save model\n",
    "joblib.dump(model, 'model_inside.joblib', compress=3)"
   ]
  },
  {
   "cell_type": "markdown",
   "id": "e5033a9a",
   "metadata": {},
   "source": [
    "* _upsampling_"
   ]
  },
  {
   "cell_type": "code",
   "execution_count": 11,
   "id": "e27d95de",
   "metadata": {},
   "outputs": [],
   "source": [
    "df = pd.read_csv('../data/cleaning_step2.csv')\n",
    "df.drop(['bullied_outside_school', 'cyberbullied'], axis=1, inplace=True)"
   ]
  },
  {
   "cell_type": "code",
   "execution_count": 12,
   "id": "4cd64dec",
   "metadata": {},
   "outputs": [
    {
     "data": {
      "text/plain": [
       "(16502, 6264)"
      ]
     },
     "execution_count": 12,
     "metadata": {},
     "output_type": "execute_result"
    }
   ],
   "source": [
    "cat0 = df[df['bullied_in_school'] == 0]\n",
    "cat1 = df[df['bullied_in_school'] == 1]\n",
    "\n",
    "c0_len = len(cat0)\n",
    "c1_len = len(cat1)\n",
    "\n",
    "c0_len, c1_len"
   ]
  },
  {
   "cell_type": "code",
   "execution_count": 13,
   "id": "448be54e",
   "metadata": {},
   "outputs": [],
   "source": [
    "X = df.drop(['bullied_in_school'], axis=1)\n",
    "y = df[['bullied_in_school']]"
   ]
  },
  {
   "cell_type": "code",
   "execution_count": 14,
   "id": "fa40b040",
   "metadata": {},
   "outputs": [],
   "source": [
    "tt_ratio = 0.3\n",
    "rand_seed = 42\n",
    "\n",
    "X_train, X_test, y_train, y_test = train_test_split(X, y, test_size=tt_ratio, random_state=rand_seed)"
   ]
  },
  {
   "cell_type": "code",
   "execution_count": 15,
   "id": "6e86f800",
   "metadata": {},
   "outputs": [
    {
     "data": {
      "text/plain": [
       "bullied_in_school\n",
       "0                    11513\n",
       "1                    11513\n",
       "dtype: int64"
      ]
     },
     "execution_count": 15,
     "metadata": {},
     "output_type": "execute_result"
    }
   ],
   "source": [
    "#upsample\n",
    "smote = SMOTE()\n",
    "X_train_sm, y_train_sm = smote.fit_resample(X_train, y_train)\n",
    "y_train_sm.value_counts()"
   ]
  },
  {
   "cell_type": "code",
   "execution_count": 16,
   "id": "d8d6dff7",
   "metadata": {},
   "outputs": [
    {
     "data": {
      "text/plain": [
       "0.34339457567804027"
      ]
     },
     "execution_count": 16,
     "metadata": {},
     "output_type": "execute_result"
    }
   ],
   "source": [
    "model = RandomForestClassifier(n_estimators=2000, min_samples_split=15, random_state=42)\n",
    "model.fit(X_train_sm, y_train_sm.to_numpy().ravel())\n",
    "\n",
    "y_pred = model.predict(X_test)\n",
    "precision_score(y_test, y_pred)"
   ]
  }
 ],
 "metadata": {
  "kernelspec": {
   "display_name": "Python 3 (ipykernel)",
   "language": "python",
   "name": "python3"
  },
  "language_info": {
   "codemirror_mode": {
    "name": "ipython",
    "version": 3
   },
   "file_extension": ".py",
   "mimetype": "text/x-python",
   "name": "python",
   "nbconvert_exporter": "python",
   "pygments_lexer": "ipython3",
   "version": "3.9.13"
  }
 },
 "nbformat": 4,
 "nbformat_minor": 5
}
